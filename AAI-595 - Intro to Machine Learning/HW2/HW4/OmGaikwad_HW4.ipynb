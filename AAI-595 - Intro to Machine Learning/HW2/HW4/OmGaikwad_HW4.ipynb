{
 "cells": [
  {
   "cell_type": "markdown",
   "metadata": {},
   "source": [
    "## Homework 3 - Om Gaikwad"
   ]
  },
  {
   "cell_type": "markdown",
   "metadata": {},
   "source": [
    "### Step 1: Data Acquisition"
   ]
  },
  {
   "cell_type": "code",
   "execution_count": 28,
   "metadata": {},
   "outputs": [
    {
     "name": "stdout",
     "output_type": "stream",
     "text": [
      "Train images shape: (60000, 28, 28)\n",
      "Train labels shape: (60000,)\n",
      "Test images shape: (10000, 28, 28)\n",
      "Test labels shape: (10000,)\n"
     ]
    },
    {
     "data": {
      "image/png": "[encoded data removed]",
      "text/plain": [
       "<Figure size 640x480 with 1 Axes>"
      ]
     },
     "metadata": {},
     "output_type": "display_data"
    }
   ],
   "source": [
    "import numpy as np\n",
    "import matplotlib.pyplot as plt\n",
    "import gzip, struct, os\n",
    "\n",
    "\n",
    "def read_idx(filename):\n",
    "    with gzip.open(filename, 'rb') as f:\n",
    "        zero, data_type, dims = struct.unpack('>HBB', f.read(4))\n",
    "        shape = tuple(struct.unpack('>I', f.read(4))[0] for d in range(dims))\n",
    "        return np.frombuffer(f.read(), dtype=np.uint8).reshape(shape)\n",
    "\n",
    "X_train = read_idx(\"MNIST/train-images-idx3-ubyte.gz\")\n",
    "y_train = read_idx(\"MNIST/train-labels-idx1-ubyte.gz\")\n",
    "X_test = read_idx(\"MNIST/t10k-images-idx3-ubyte.gz\")    \n",
    "y_test = read_idx(\"MNIST/t10k-labels-idx1-ubyte.gz\")\n",
    "\n",
    "print(\"Train images shape:\", X_train.shape)\n",
    "print(\"Train labels shape:\", y_train.shape)\n",
    "print(\"Test images shape:\", X_test.shape)\n",
    "print(\"Test labels shape:\", y_test.shape)\n",
    "\n",
    "# visualize a sample\n",
    "idx = np.random.randint(0, X_train.shape[0])\n",
    "plt.imshow(X_train[idx], cmap='gray')\n",
    "plt.title(f\"Label: {y_train[idx]}\")\n",
    "plt.show()"
   ]
  },
  {
   "cell_type": "markdown",
   "metadata": {},
   "source": [
    "## Step 2: Data Processing"
   ]
  },
  {
   "cell_type": "code",
   "execution_count": 29,
   "metadata": {},
   "outputs": [],
   "source": [
    "# Normalize the pixel values to be between 0 and 1\n",
    "X_train = X_train / 255.0\n",
    "X_test = X_test / 255.0\n",
    "\n",
    "# Flatten the images into 1D vectors\n",
    "X_train = X_train.reshape(-1, 28*28)\n",
    "X_test = X_test.reshape(-1, 28*28)\n",
    "\n",
    "# One-hot encode the labels\n",
    "def one_hot_encode(y, num_classes=10):\n",
    "    return np.eye(num_classes)[y]\n",
    "\n",
    "y_train_encoded = one_hot_encode(y_train)\n",
    "y_test_encoded = one_hot_encode(y_test)"
   ]
  },
  {
   "cell_type": "markdown",
   "metadata": {},
   "source": [
    "## Step 3: Network Initialization\n"
   ]
  },
  {
   "cell_type": "code",
   "execution_count": 30,
   "metadata": {},
   "outputs": [],
   "source": [
    "# Sigmoid function\n",
    "def sigmoid(x):\n",
    "    return 1 / (1 + np.exp(-x))\n",
    "\n",
    "def sigmoid_derivative(x):\n",
    "    s = sigmoid(x)\n",
    "    return s * (1 - s)\n",
    "\n",
    "def softmax(x):\n",
    "    exps = np.exp(x - np.max(x, axis=1, keepdims=True))\n",
    "    return exps / np.sum(exps, axis=1, keepdims=True)\n",
    "\n",
    "np.random.seed(595)\n",
    "input_size = 784\n",
    "hidden1 = 128\n",
    "hidden2 = 64\n",
    "output_size = 10\n",
    "\n",
    "W1 = np.random.randn(input_size, hidden1) * 0.01\n",
    "b1 = np.zeros((1, hidden1))\n",
    "W2 = np.random.randn(hidden1, hidden2) * 0.01\n",
    "b2 = np.zeros((1, hidden2))\n",
    "W3 = np.random.randn(hidden2, output_size) * 0.01\n",
    "b3 = np.zeros((1, output_size))"
   ]
  },
  {
   "cell_type": "markdown",
   "metadata": {},
   "source": [
    "### Step 4: Feed Forward"
   ]
  },
  {
   "cell_type": "code",
   "execution_count": 31,
   "metadata": {},
   "outputs": [],
   "source": [
    "def feed_forward(x):\n",
    "    z1 = np.dot(x, W1) + b1\n",
    "    a1 = sigmoid(z1)\n",
    "    z2 = np.dot(a1, W2) + b2\n",
    "    a2 = sigmoid(z2)\n",
    "    z3 = np.dot(a2, W3) + b3\n",
    "    a3 = softmax(z3)\n",
    "    return z1, a1, z2, a2, z3, a3"
   ]
  },
  {
   "cell_type": "markdown",
   "metadata": {},
   "source": []
  },
  {
   "cell_type": "code",
   "execution_count": 32,
   "metadata": {},
   "outputs": [],
   "source": [
    "# Compute the loss\n",
    "def categorical_crossentropy(y_true, y_pred):\n",
    "    n_samples = y_true.shape[0]\n",
    "    y_pred_clipped = np.clip(y_pred, 1e-12, 1-1e-12)\n",
    "    return -np.sum(y_true * np.log(y_pred_clipped)) / n_samples\n",
    "\n",
    "\n",
    "def back_propagation(x, y_true, z1, a1, z2, a2, z3, a3):\n",
    "    m = y_true.shape[0]\n",
    "    \n",
    "    # Compute the gradient of the loss w.r.t the output layer\n",
    "    dz3 = a3 - y_true\n",
    "    dW3 = np.dot(a2.T, dz3) / m\n",
    "    db3 = np.sum(dz3, axis=0, keepdims=True) / m\n",
    "\n",
    "    # Compute the gradient of the loss w.r.t the hidden layer 2\n",
    "    dz2 = np.dot(dz3, W3.T) * sigmoid_derivative(z2)\n",
    "    dW2 = np.dot(a1.T, dz2) / m\n",
    "    db2 = np.sum(dz2, axis=0, keepdims=True) / m\n",
    "\n",
    "    # Compute the gradient of the loss w.r.t the hidden layer 1\n",
    "    dz1 = np.dot(dz2, W2.T) * sigmoid_derivative(z1)\n",
    "    dW1 = np.dot(x.T, dz1) / m\n",
    "    db1 = np.sum(dz1, axis=0, keepdims=True) / m\n",
    "\n",
    "    return dW1, db1, dW2, db2, dW3, db3\n"
   ]
  },
  {
   "cell_type": "markdown",
   "metadata": {},
   "source": [
    "### Step 6: Model Training"
   ]
  },
  {
   "cell_type": "code",
   "execution_count": 33,
   "metadata": {},
   "outputs": [
    {
     "name": "stdout",
     "output_type": "stream",
     "text": [
      "Epoch 1: Loss = 2.3039, Test Accuracy = 0.1135\n",
      "Epoch 2: Loss = 2.3045, Test Accuracy = 0.1028\n",
      "Epoch 3: Loss = 2.3045, Test Accuracy = 0.1032\n",
      "Epoch 4: Loss = 2.3020, Test Accuracy = 0.1135\n",
      "Epoch 5: Loss = 2.3025, Test Accuracy = 0.1934\n",
      "Epoch 6: Loss = 2.2952, Test Accuracy = 0.1271\n",
      "Epoch 7: Loss = 2.0661, Test Accuracy = 0.2602\n",
      "Epoch 8: Loss = 1.7215, Test Accuracy = 0.3501\n",
      "Epoch 9: Loss = 1.2673, Test Accuracy = 0.5163\n",
      "Epoch 10: Loss = 1.0851, Test Accuracy = 0.6114\n",
      "Epoch 11: Loss = 0.9423, Test Accuracy = 0.6848\n",
      "Epoch 12: Loss = 0.8043, Test Accuracy = 0.7515\n",
      "Epoch 13: Loss = 0.6827, Test Accuracy = 0.8019\n",
      "Epoch 14: Loss = 0.5925, Test Accuracy = 0.8348\n",
      "Epoch 15: Loss = 0.5298, Test Accuracy = 0.8535\n",
      "Epoch 16: Loss = 0.4743, Test Accuracy = 0.8719\n",
      "Epoch 17: Loss = 0.4354, Test Accuracy = 0.8806\n",
      "Epoch 18: Loss = 0.4002, Test Accuracy = 0.8923\n",
      "Epoch 19: Loss = 0.3662, Test Accuracy = 0.9008\n",
      "Epoch 20: Loss = 0.3386, Test Accuracy = 0.9079\n",
      "Epoch 21: Loss = 0.3166, Test Accuracy = 0.9143\n",
      "Epoch 22: Loss = 0.2953, Test Accuracy = 0.9207\n",
      "Epoch 23: Loss = 0.2760, Test Accuracy = 0.9239\n",
      "Epoch 24: Loss = 0.2600, Test Accuracy = 0.9261\n",
      "Epoch 25: Loss = 0.2465, Test Accuracy = 0.9296\n",
      "Epoch 26: Loss = 0.2383, Test Accuracy = 0.9330\n",
      "Epoch 27: Loss = 0.2264, Test Accuracy = 0.9345\n",
      "Epoch 28: Loss = 0.2153, Test Accuracy = 0.9372\n",
      "Epoch 29: Loss = 0.2065, Test Accuracy = 0.9400\n",
      "Epoch 30: Loss = 0.1991, Test Accuracy = 0.9427\n",
      "Epoch 31: Loss = 0.1917, Test Accuracy = 0.9451\n",
      "Epoch 32: Loss = 0.1841, Test Accuracy = 0.9454\n",
      "Epoch 33: Loss = 0.1774, Test Accuracy = 0.9472\n",
      "Epoch 34: Loss = 0.1717, Test Accuracy = 0.9495\n",
      "Epoch 35: Loss = 0.1668, Test Accuracy = 0.9490\n",
      "Epoch 36: Loss = 0.1600, Test Accuracy = 0.9518\n",
      "Epoch 37: Loss = 0.1559, Test Accuracy = 0.9521\n",
      "Epoch 38: Loss = 0.1513, Test Accuracy = 0.9537\n",
      "Epoch 39: Loss = 0.1476, Test Accuracy = 0.9559\n",
      "Epoch 40: Loss = 0.1411, Test Accuracy = 0.9563\n",
      "Epoch 41: Loss = 0.1390, Test Accuracy = 0.9580\n",
      "Epoch 42: Loss = 0.1337, Test Accuracy = 0.9589\n",
      "Epoch 43: Loss = 0.1320, Test Accuracy = 0.9588\n",
      "Epoch 44: Loss = 0.1279, Test Accuracy = 0.9596\n",
      "Epoch 45: Loss = 0.1259, Test Accuracy = 0.9609\n",
      "Epoch 46: Loss = 0.1216, Test Accuracy = 0.9612\n",
      "Epoch 47: Loss = 0.1178, Test Accuracy = 0.9632\n",
      "Epoch 48: Loss = 0.1176, Test Accuracy = 0.9633\n",
      "Epoch 49: Loss = 0.1121, Test Accuracy = 0.9638\n",
      "Epoch 50: Loss = 0.1157, Test Accuracy = 0.9617\n",
      "Epoch 51: Loss = 0.1077, Test Accuracy = 0.9641\n",
      "Epoch 52: Loss = 0.1078, Test Accuracy = 0.9638\n",
      "Epoch 53: Loss = 0.1027, Test Accuracy = 0.9662\n",
      "Epoch 54: Loss = 0.1007, Test Accuracy = 0.9664\n",
      "Epoch 55: Loss = 0.0983, Test Accuracy = 0.9664\n",
      "Epoch 56: Loss = 0.0974, Test Accuracy = 0.9667\n",
      "Epoch 57: Loss = 0.0967, Test Accuracy = 0.9672\n",
      "Epoch 58: Loss = 0.0928, Test Accuracy = 0.9672\n",
      "Epoch 59: Loss = 0.0920, Test Accuracy = 0.9678\n",
      "Epoch 60: Loss = 0.0883, Test Accuracy = 0.9688\n",
      "Epoch 61: Loss = 0.0885, Test Accuracy = 0.9681\n",
      "Epoch 62: Loss = 0.0850, Test Accuracy = 0.9685\n",
      "Epoch 63: Loss = 0.0844, Test Accuracy = 0.9683\n",
      "Epoch 64: Loss = 0.0852, Test Accuracy = 0.9683\n",
      "Epoch 65: Loss = 0.0818, Test Accuracy = 0.9697\n",
      "Epoch 66: Loss = 0.0793, Test Accuracy = 0.9707\n",
      "Epoch 67: Loss = 0.0779, Test Accuracy = 0.9696\n",
      "Epoch 68: Loss = 0.0762, Test Accuracy = 0.9701\n",
      "Epoch 69: Loss = 0.0745, Test Accuracy = 0.9706\n",
      "Epoch 70: Loss = 0.0741, Test Accuracy = 0.9709\n",
      "Epoch 71: Loss = 0.0724, Test Accuracy = 0.9709\n",
      "Epoch 72: Loss = 0.0711, Test Accuracy = 0.9707\n",
      "Epoch 73: Loss = 0.0714, Test Accuracy = 0.9704\n",
      "Epoch 74: Loss = 0.0672, Test Accuracy = 0.9720\n",
      "Epoch 75: Loss = 0.0666, Test Accuracy = 0.9724\n",
      "Epoch 76: Loss = 0.0646, Test Accuracy = 0.9724\n",
      "Epoch 77: Loss = 0.0640, Test Accuracy = 0.9729\n",
      "Epoch 78: Loss = 0.0627, Test Accuracy = 0.9730\n",
      "Epoch 79: Loss = 0.0627, Test Accuracy = 0.9725\n",
      "Epoch 80: Loss = 0.0612, Test Accuracy = 0.9722\n",
      "Epoch 81: Loss = 0.0594, Test Accuracy = 0.9731\n",
      "Epoch 82: Loss = 0.0588, Test Accuracy = 0.9740\n",
      "Epoch 83: Loss = 0.0586, Test Accuracy = 0.9719\n",
      "Epoch 84: Loss = 0.0568, Test Accuracy = 0.9741\n",
      "Epoch 85: Loss = 0.0557, Test Accuracy = 0.9727\n",
      "Epoch 86: Loss = 0.0566, Test Accuracy = 0.9738\n",
      "Epoch 87: Loss = 0.0539, Test Accuracy = 0.9743\n",
      "Epoch 88: Loss = 0.0527, Test Accuracy = 0.9746\n",
      "Epoch 89: Loss = 0.0515, Test Accuracy = 0.9752\n",
      "Epoch 90: Loss = 0.0504, Test Accuracy = 0.9750\n",
      "Epoch 91: Loss = 0.0506, Test Accuracy = 0.9729\n",
      "Epoch 92: Loss = 0.0493, Test Accuracy = 0.9748\n",
      "Epoch 93: Loss = 0.0493, Test Accuracy = 0.9744\n",
      "Epoch 94: Loss = 0.0483, Test Accuracy = 0.9744\n",
      "Epoch 95: Loss = 0.0466, Test Accuracy = 0.9748\n",
      "Epoch 96: Loss = 0.0466, Test Accuracy = 0.9750\n",
      "Epoch 97: Loss = 0.0464, Test Accuracy = 0.9741\n",
      "Epoch 98: Loss = 0.0449, Test Accuracy = 0.9754\n",
      "Epoch 99: Loss = 0.0440, Test Accuracy = 0.9750\n",
      "Epoch 100: Loss = 0.0430, Test Accuracy = 0.9750\n"
     ]
    }
   ],
   "source": [
    "learning_rate = 0.1\n",
    "batch_size = 128\n",
    "epochs = 100\n",
    "loss_log = []\n",
    "\n",
    "for epoch in range(epochs):\n",
    "    permutation = np.random.permutation(X_train.shape[0])\n",
    "    X_shuffled = X_train[permutation]\n",
    "    y_shuffled = y_train_encoded[permutation]\n",
    "    n_batches = X_train.shape[0] // batch_size\n",
    "\n",
    "    for i in range(n_batches):\n",
    "        start = i * batch_size\n",
    "        end = start + batch_size\n",
    "        x_batch = X_shuffled[start:end]\n",
    "        y_batch = y_shuffled[start:end]\n",
    "\n",
    "        z1, a1, z2, a2, z3, a3 = feed_forward(x_batch)\n",
    "        dW1, db1, dW2, db2, dW3, db3 = back_propagation(x_batch, y_batch, z1, a1, z2, a2, z3, a3)\n",
    "\n",
    "        W1 -= learning_rate * dW1\n",
    "        b1 -= learning_rate * db1\n",
    "        W2 -= learning_rate * dW2\n",
    "        b2 -= learning_rate * db2\n",
    "        W3 -= learning_rate * dW3\n",
    "        b3 -= learning_rate * db3\n",
    "\n",
    "    # compute training loss and test accuracy at end of each epoch\n",
    "    z1_train, a1_train, z2_train, a2_train, z3_train, train_pred = feed_forward(X_train)\n",
    "    loss = categorical_crossentropy(y_train_encoded, train_pred)\n",
    "    loss_log.append(loss)\n",
    "    z1_test, a1_test, z2_test, a2_test, z3_test, test_pred = feed_forward(X_test)\n",
    "    test_acc = np.mean(np.argmax(test_pred, axis=1) == y_test)\n",
    "    print(f\"Epoch {epoch+1}: Loss = {loss:.4f}, Test Accuracy = {test_acc:.4f}\")"
   ]
  },
  {
   "cell_type": "markdown",
   "metadata": {},
   "source": [
    "### Step 7: Model Evaluation"
   ]
  },
  {
   "cell_type": "code",
   "execution_count": 35,
   "metadata": {},
   "outputs": [
    {
     "name": "stdout",
     "output_type": "stream",
     "text": [
      "Test Accuracy: 0.975\n"
     ]
    },
    {
     "data": {
      "image/png": "[encoded data removed]",
      "text/plain": [
       "<Figure size 800x1000 with 10 Axes>"
      ]
     },
     "metadata": {},
     "output_type": "display_data"
    }
   ],
   "source": [
    "# Compute the test accuracy\n",
    "z1_test, a1_test, z2_test, a2_test, z3_test, y_pred_test = feed_forward(X_test)\n",
    "pred_labels = np.argmax(y_pred_test, axis=1)\n",
    "true_labels = y_test\n",
    "accuracy = np.mean(pred_labels == true_labels)\n",
    "print(\"Test Accuracy:\", accuracy)\n",
    "\n",
    "# Plot misclassified images\n",
    "wrong_idx = np.where(pred_labels != true_labels)[0][:10]\n",
    "fig, axs = plt.subplots(nrows=5, ncols=2, figsize=(8, 10))\n",
    "axs = axs.flatten()\n",
    "\n",
    "for i, ax in enumerate(axs):\n",
    "    idx = wrong_idx[i]\n",
    "    ax.imshow(X_test[idx].reshape(28, 28), cmap='gray')\n",
    "    ax.set_title(f\"True: {true_labels[idx]}, Pred: {pred_labels[idx]}\")\n",
    "    ax.axis('off')\n",
    "\n",
    "plt.tight_layout()\n",
    "plt.show()"
   ]
  }
 ],
 "metadata": {
  "kernelspec": {
   "display_name": "Python 3",
   "language": "python",
   "name": "python3"
  },
  "language_info": {
   "codemirror_mode": {
    "name": "ipython",
    "version": 3
   },
   "file_extension": ".py",
   "mimetype": "text/x-python",
   "name": "python",
   "nbconvert_exporter": "python",
   "pygments_lexer": "ipython3",
   "version": "3.13.1"
  }
 },
 "nbformat": 4,
 "nbformat_minor": 2
}
