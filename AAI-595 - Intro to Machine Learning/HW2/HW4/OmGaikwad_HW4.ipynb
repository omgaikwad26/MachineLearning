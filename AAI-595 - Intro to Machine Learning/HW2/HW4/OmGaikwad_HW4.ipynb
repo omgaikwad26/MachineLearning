{
 "cells": [
  {
   "cell_type": "markdown",
   "metadata": {},
   "source": [
    "## Homework 3 - Om Gaikwad"
   ]
  },
  {
   "cell_type": "markdown",
   "metadata": {},
   "source": [
    "### Step 1: Data Acquisition"
   ]
  },
  {
   "cell_type": "code",
   "execution_count": 2,
   "metadata": {},
   "outputs": [],
   "source": [
    "import numpy as np\n",
    "import matplotlib.pyplot as plt\n",
    "import gzip, struct, os\n",
    "\n",
    "# --- Step 1: Data Acquisition and Visualization ---\n",
    "def read_idx(filename):\n",
    "    with gzip.open(filename, 'rb') as f:\n",
    "        zero, data_type, dims = struct.unpack('>HBB', f.read(4))\n",
    "        shape = tuple(struct.unpack('>I', f.read(4))[0] for d in range(dims))\n",
    "        return np.frombuffer(f.read(), dtype=np.uint8).reshape(shape)"
   ]
  },
  {
   "cell_type": "code",
   "execution_count": null,
   "metadata": {},
   "outputs": [
    {
     "name": "stderr",
     "output_type": "stream",
     "text": [
      "<>:1: SyntaxWarning: invalid escape sequence '\\H'\n",
      "<>:2: SyntaxWarning: invalid escape sequence '\\H'\n",
      "<>:3: SyntaxWarning: invalid escape sequence '\\H'\n",
      "<>:4: SyntaxWarning: invalid escape sequence '\\H'\n",
      "<>:1: SyntaxWarning: invalid escape sequence '\\H'\n",
      "<>:2: SyntaxWarning: invalid escape sequence '\\H'\n",
      "<>:3: SyntaxWarning: invalid escape sequence '\\H'\n",
      "<>:4: SyntaxWarning: invalid escape sequence '\\H'\n",
      "C:\\Users\\Om\\AppData\\Local\\Temp\\ipykernel_36640\\2483463033.py:1: SyntaxWarning: invalid escape sequence '\\H'\n",
      "  X_train = read_idx(\"AAI-595 - Intro to Machine Learning\\HW2\\HW4\\MNIST\\t10k-images-idx3-ubyte.gz\")\n",
      "C:\\Users\\Om\\AppData\\Local\\Temp\\ipykernel_36640\\2483463033.py:2: SyntaxWarning: invalid escape sequence '\\H'\n",
      "  y_train = read_idx(\"AAI-595 - Intro to Machine Learning\\HW2\\HW4\\MNIST\\t10k-labels-idx1-ubyte\\t10k-labels.idx1-ubyte\")\n",
      "C:\\Users\\Om\\AppData\\Local\\Temp\\ipykernel_36640\\2483463033.py:3: SyntaxWarning: invalid escape sequence '\\H'\n",
      "  X_test = read_idx(\"AAI-595 - Intro to Machine Learning\\HW2\\HW4\\MNIST\\train-images-idx3-ubyte\\train-images.idx3-ubyte\")\n",
      "C:\\Users\\Om\\AppData\\Local\\Temp\\ipykernel_36640\\2483463033.py:4: SyntaxWarning: invalid escape sequence '\\H'\n",
      "  y_test = read_idx(\"AAI-595 - Intro to Machine Learning\\HW2\\HW4\\MNIST\\train-labels-idx1-ubyte\\train-labels.idx1-ubyte\")\n"
     ]
    },
    {
     "ename": "SyntaxError",
     "evalue": "invalid syntax (2483463033.py, line 9)",
     "output_type": "error",
     "traceback": [
      "\u001b[1;36m  Cell \u001b[1;32mIn[6], line 9\u001b[1;36m\u001b[0m\n\u001b[1;33m    AAI-595 - Intro to Machine Learning\\HW2\\HW4\\MNIST\\train-labels-idx1-ubyte\\train-labels.idx1-ubyte\u001b[0m\n\u001b[1;37m                    ^\u001b[0m\n\u001b[1;31mSyntaxError\u001b[0m\u001b[1;31m:\u001b[0m invalid syntax\n"
     ]
    }
   ],
   "source": [
    "X_train = read_idx(\"AAI-595 - Intro to Machine Learning\\HW2\\HW4\\MNIST\\t10k-images-idx3-ubyte.gz\")\n",
    "y_train = read_idx(\"AAI-595 - Intro to Machine Learning\\HW2\\HW4\\MNIST\\t10k-labels-idx1-ubyte\\t10k-labels.idx1-ubyte\")\n",
    "X_test = read_idx(\"AAI-595 - Intro to Machine Learning\\HW2\\HW4\\MNIST\\train-images-idx3-ubyte\\train-images.idx3-ubyte\")\n",
    "y_test = read_idx(\"AAI-595 - Intro to Machine Learning\\HW2\\HW4\\MNIST\\train-labels-idx1-ubyte\\train-labels.idx1-ubyte\")\n",
    "print(\"Train images shape:\", X_train.shape)\n",
    "print(\"Train labels shape:\", y_train.shape)\n",
    "print(\"Test images shape:\", X_test.shape)\n",
    "print(\"Test labels shape:\", y_test.shape)\n",
    "\n",
    "# visualize a sample\n",
    "idx = np.random.randint(0, X_train.shape[0])\n",
    "plt.imshow(X_train[idx], cmap='gray')\n",
    "plt.title(f\"Label: {y_train[idx]}\")\n",
    "plt.show()"
   ]
  }
 ],
 "metadata": {
  "kernelspec": {
   "display_name": "Python 3",
   "language": "python",
   "name": "python3"
  },
  "language_info": {
   "codemirror_mode": {
    "name": "ipython",
    "version": 3
   },
   "file_extension": ".py",
   "mimetype": "text/x-python",
   "name": "python",
   "nbconvert_exporter": "python",
   "pygments_lexer": "ipython3",
   "version": "3.13.1"
  }
 },
 "nbformat": 4,
 "nbformat_minor": 2
}
